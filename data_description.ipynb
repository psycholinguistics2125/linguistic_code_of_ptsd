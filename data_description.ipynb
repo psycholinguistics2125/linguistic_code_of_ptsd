{
 "cells": [
  {
   "cell_type": "code",
   "execution_count": 22,
   "metadata": {},
   "outputs": [],
   "source": [
    "import warnings\n",
    "warnings.filterwarnings('ignore')\n",
    "import pandas as pd\n",
    "from src.utils import load_config\n",
    "from src.data_tools.data_utils import load_features_and_meta\n",
    "from src.stats_analysis.utils_statistics import compute_khi_2_table, compute_anova_table, compute_mwu_table\n",
    "config = load_config()"
   ]
  },
  {
   "cell_type": "code",
   "execution_count": 23,
   "metadata": {},
   "outputs": [],
   "source": [
    "data = load_features_and_meta(config)"
   ]
  },
  {
   "cell_type": "code",
   "execution_count": 24,
   "metadata": {},
   "outputs": [
    {
     "data": {
      "text/plain": [
       "Index(['uuid', 'age', 'sexe', 'code_insee', 'education_degree', 'single',\n",
       "       'living_alone', 'exp_critereA', 'PTSD_probable',\n",
       "       'partial_PTSD_probable',\n",
       "       ...\n",
       "       'ON_we', 'ON_someone', 'Enunciative_PRESENT', 'Generical_PRESENT',\n",
       "       'Historical_PRESENT', 'VERB_SENSORY_PERCEPTIONS', 'model_BODY',\n",
       "       'NOM_PERCEPTIONS_SENSORIELLES', 'model_PHYSICAL_SENSATIONS',\n",
       "       'agentivity'],\n",
       "      dtype='object', length=103)"
      ]
     },
     "execution_count": 24,
     "metadata": {},
     "output_type": "execute_result"
    }
   ],
   "source": [
    "data.columns"
   ]
  },
  {
   "cell_type": "markdown",
   "metadata": {},
   "source": [
    "## Data description\n",
    "### reproduce table 1 & 2 in the paper\n",
    "\n",
    "#### Table 1. Socio-economic information of our cohort and statistical association with criterion A\n",
    "In our cohort, criterion A is reduced to (A1: direct exposure, A2: witnessing the trauma)"
   ]
  },
  {
   "cell_type": "code",
   "execution_count": 25,
   "metadata": {},
   "outputs": [
    {
     "data": {
      "text/plain": [
       "exp_critereA\n",
       "A1    110\n",
       "A2     38\n",
       "Name: count, dtype: int64"
      ]
     },
     "execution_count": 25,
     "metadata": {},
     "output_type": "execute_result"
    }
   ],
   "source": [
    "data['exp_critereA'].value_counts()"
   ]
  },
  {
   "cell_type": "code",
   "execution_count": 26,
   "metadata": {},
   "outputs": [
    {
     "data": {
      "text/plain": [
       "exp_critereA  sexe\n",
       "A1            F       55.5\n",
       "              M       44.5\n",
       "A2            F       68.4\n",
       "              M       31.6\n",
       "Name: proportion, dtype: float64"
      ]
     },
     "execution_count": 26,
     "metadata": {},
     "output_type": "execute_result"
    }
   ],
   "source": [
    "data.groupby('exp_critereA')['sexe'].value_counts(normalize=True).round(3)*100"
   ]
  },
  {
   "cell_type": "code",
   "execution_count": 27,
   "metadata": {},
   "outputs": [
    {
     "data": {
      "text/html": [
       "<div>\n",
       "<style scoped>\n",
       "    .dataframe tbody tr th:only-of-type {\n",
       "        vertical-align: middle;\n",
       "    }\n",
       "\n",
       "    .dataframe tbody tr th {\n",
       "        vertical-align: top;\n",
       "    }\n",
       "\n",
       "    .dataframe thead th {\n",
       "        text-align: right;\n",
       "    }\n",
       "</style>\n",
       "<table border=\"1\" class=\"dataframe\">\n",
       "  <thead>\n",
       "    <tr style=\"text-align: right;\">\n",
       "      <th></th>\n",
       "      <th>count</th>\n",
       "      <th>mean</th>\n",
       "      <th>std</th>\n",
       "      <th>min</th>\n",
       "      <th>25%</th>\n",
       "      <th>50%</th>\n",
       "      <th>75%</th>\n",
       "      <th>max</th>\n",
       "    </tr>\n",
       "    <tr>\n",
       "      <th>exp_critereA</th>\n",
       "      <th></th>\n",
       "      <th></th>\n",
       "      <th></th>\n",
       "      <th></th>\n",
       "      <th></th>\n",
       "      <th></th>\n",
       "      <th></th>\n",
       "      <th></th>\n",
       "    </tr>\n",
       "  </thead>\n",
       "  <tbody>\n",
       "    <tr>\n",
       "      <th>A1</th>\n",
       "      <td>110.0</td>\n",
       "      <td>37.018</td>\n",
       "      <td>8.986</td>\n",
       "      <td>20.0</td>\n",
       "      <td>30.00</td>\n",
       "      <td>36.0</td>\n",
       "      <td>41.0</td>\n",
       "      <td>65.0</td>\n",
       "    </tr>\n",
       "    <tr>\n",
       "      <th>A2</th>\n",
       "      <td>38.0</td>\n",
       "      <td>41.579</td>\n",
       "      <td>12.411</td>\n",
       "      <td>20.0</td>\n",
       "      <td>32.25</td>\n",
       "      <td>41.5</td>\n",
       "      <td>49.5</td>\n",
       "      <td>66.0</td>\n",
       "    </tr>\n",
       "  </tbody>\n",
       "</table>\n",
       "</div>"
      ],
      "text/plain": [
       "              count    mean     std   min    25%   50%   75%   max\n",
       "exp_critereA                                                      \n",
       "A1            110.0  37.018   8.986  20.0  30.00  36.0  41.0  65.0\n",
       "A2             38.0  41.579  12.411  20.0  32.25  41.5  49.5  66.0"
      ]
     },
     "execution_count": 27,
     "metadata": {},
     "output_type": "execute_result"
    }
   ],
   "source": [
    "data.groupby('exp_critereA')['age'].describe().round(3)"
   ]
  },
  {
   "cell_type": "code",
   "execution_count": 28,
   "metadata": {},
   "outputs": [
    {
     "data": {
      "text/plain": [
       "exp_critereA  code_insee                                  \n",
       "A1            MANAGERS AND HIGHER INTELLECTUAL PROFESSIONS    48.2\n",
       "              INTERMEDIATE PROFESSIONS                        20.9\n",
       "              EMPLOYEES                                        8.2\n",
       "              UNEMPLOYED                                       7.3\n",
       "              NR                                               6.4\n",
       "              CRAFTSMEN AND MERCHANTS                          3.6\n",
       "              STUDENTS                                         3.6\n",
       "              RETIRED                                          0.9\n",
       "              WORKERS                                          0.9\n",
       "A2            MANAGERS AND HIGHER INTELLECTUAL PROFESSIONS    52.6\n",
       "              CRAFTSMEN AND MERCHANTS                         18.4\n",
       "              INTERMEDIATE PROFESSIONS                        15.8\n",
       "              STUDENTS                                         7.9\n",
       "              EMPLOYEES                                        2.6\n",
       "              RETIRED                                          2.6\n",
       "Name: proportion, dtype: float64"
      ]
     },
     "execution_count": 28,
     "metadata": {},
     "output_type": "execute_result"
    }
   ],
   "source": [
    "data.groupby('exp_critereA')['code_insee'].value_counts(normalize=True).round(3)*100"
   ]
  },
  {
   "cell_type": "code",
   "execution_count": 29,
   "metadata": {},
   "outputs": [
    {
     "data": {
      "text/plain": [
       "exp_critereA  education_degree   \n",
       "A1            master or higher       59.1\n",
       "              bachelor               27.3\n",
       "              high school or less    11.8\n",
       "              other                   1.8\n",
       "A2            master or higher       57.9\n",
       "              bachelor               21.1\n",
       "              high school or less    21.1\n",
       "Name: proportion, dtype: float64"
      ]
     },
     "execution_count": 29,
     "metadata": {},
     "output_type": "execute_result"
    }
   ],
   "source": [
    "data.groupby('exp_critereA')['education_degree'].value_counts(normalize=True).round(3)*100"
   ]
  },
  {
   "cell_type": "code",
   "execution_count": 30,
   "metadata": {},
   "outputs": [
    {
     "data": {
      "text/plain": [
       "exp_critereA  single\n",
       "A1            1         61.8\n",
       "              0         38.2\n",
       "A2            1         63.2\n",
       "              0         36.8\n",
       "Name: proportion, dtype: float64"
      ]
     },
     "execution_count": 30,
     "metadata": {},
     "output_type": "execute_result"
    }
   ],
   "source": [
    "data.groupby('exp_critereA')['single'].value_counts(normalize=True).round(3)*100"
   ]
  },
  {
   "cell_type": "code",
   "execution_count": 31,
   "metadata": {},
   "outputs": [
    {
     "data": {
      "text/plain": [
       "exp_critereA  living_alone\n",
       "A1            0               67.3\n",
       "              1               32.7\n",
       "A2            0               68.4\n",
       "              1               31.6\n",
       "Name: proportion, dtype: float64"
      ]
     },
     "execution_count": 31,
     "metadata": {},
     "output_type": "execute_result"
    }
   ],
   "source": [
    "data.groupby('exp_critereA')['living_alone'].value_counts(normalize=True).round(3)*100"
   ]
  },
  {
   "cell_type": "markdown",
   "metadata": {},
   "source": [
    "### stats analysis"
   ]
  },
  {
   "cell_type": "code",
   "execution_count": 32,
   "metadata": {},
   "outputs": [
    {
     "data": {
      "text/html": [
       "<div>\n",
       "<style scoped>\n",
       "    .dataframe tbody tr th:only-of-type {\n",
       "        vertical-align: middle;\n",
       "    }\n",
       "\n",
       "    .dataframe tbody tr th {\n",
       "        vertical-align: top;\n",
       "    }\n",
       "\n",
       "    .dataframe thead th {\n",
       "        text-align: right;\n",
       "    }\n",
       "</style>\n",
       "<table border=\"1\" class=\"dataframe\">\n",
       "  <thead>\n",
       "    <tr style=\"text-align: right;\">\n",
       "      <th></th>\n",
       "      <th>x</th>\n",
       "      <th>y</th>\n",
       "      <th>chi2</th>\n",
       "      <th>dof</th>\n",
       "      <th>pval</th>\n",
       "      <th>cramer</th>\n",
       "      <th>power</th>\n",
       "    </tr>\n",
       "  </thead>\n",
       "  <tbody>\n",
       "    <tr>\n",
       "      <th>0</th>\n",
       "      <td>exp_critereA</td>\n",
       "      <td>sexe</td>\n",
       "      <td>1.461262</td>\n",
       "      <td>1.0</td>\n",
       "      <td>0.226729</td>\n",
       "      <td>0.099365</td>\n",
       "      <td>0.227050</td>\n",
       "    </tr>\n",
       "    <tr>\n",
       "      <th>1</th>\n",
       "      <td>exp_critereA</td>\n",
       "      <td>code_insee</td>\n",
       "      <td>17.315344</td>\n",
       "      <td>8.0</td>\n",
       "      <td>0.026988</td>\n",
       "      <td>0.342046</td>\n",
       "      <td>0.863348</td>\n",
       "    </tr>\n",
       "    <tr>\n",
       "      <th>2</th>\n",
       "      <td>exp_critereA</td>\n",
       "      <td>education_degree</td>\n",
       "      <td>2.820749</td>\n",
       "      <td>3.0</td>\n",
       "      <td>0.420096</td>\n",
       "      <td>0.138055</td>\n",
       "      <td>0.259646</td>\n",
       "    </tr>\n",
       "    <tr>\n",
       "      <th>3</th>\n",
       "      <td>exp_critereA</td>\n",
       "      <td>single</td>\n",
       "      <td>0.002227</td>\n",
       "      <td>1.0</td>\n",
       "      <td>0.962364</td>\n",
       "      <td>0.003879</td>\n",
       "      <td>0.050255</td>\n",
       "    </tr>\n",
       "    <tr>\n",
       "      <th>4</th>\n",
       "      <td>exp_critereA</td>\n",
       "      <td>living_alone</td>\n",
       "      <td>0.004986</td>\n",
       "      <td>1.0</td>\n",
       "      <td>0.943704</td>\n",
       "      <td>0.005804</td>\n",
       "      <td>0.050571</td>\n",
       "    </tr>\n",
       "  </tbody>\n",
       "</table>\n",
       "</div>"
      ],
      "text/plain": [
       "              x                 y       chi2  dof      pval    cramer  \\\n",
       "0  exp_critereA              sexe   1.461262  1.0  0.226729  0.099365   \n",
       "1  exp_critereA        code_insee  17.315344  8.0  0.026988  0.342046   \n",
       "2  exp_critereA  education_degree   2.820749  3.0  0.420096  0.138055   \n",
       "3  exp_critereA            single   0.002227  1.0  0.962364  0.003879   \n",
       "4  exp_critereA      living_alone   0.004986  1.0  0.943704  0.005804   \n",
       "\n",
       "      power  \n",
       "0  0.227050  \n",
       "1  0.863348  \n",
       "2  0.259646  \n",
       "3  0.050255  \n",
       "4  0.050571  "
      ]
     },
     "execution_count": 32,
     "metadata": {},
     "output_type": "execute_result"
    }
   ],
   "source": [
    "compute_khi_2_table(data, ['exp_critereA'], ['sexe',  'code_insee', 'education_degree', 'single', 'living_alone'], seuil = 1)"
   ]
  },
  {
   "cell_type": "code",
   "execution_count": 33,
   "metadata": {},
   "outputs": [
    {
     "data": {
      "text/html": [
       "<div>\n",
       "<style scoped>\n",
       "    .dataframe tbody tr th:only-of-type {\n",
       "        vertical-align: middle;\n",
       "    }\n",
       "\n",
       "    .dataframe tbody tr th {\n",
       "        vertical-align: top;\n",
       "    }\n",
       "\n",
       "    .dataframe thead th {\n",
       "        text-align: right;\n",
       "    }\n",
       "</style>\n",
       "<table border=\"1\" class=\"dataframe\">\n",
       "  <thead>\n",
       "    <tr style=\"text-align: right;\">\n",
       "      <th></th>\n",
       "      <th>x</th>\n",
       "      <th>y</th>\n",
       "      <th>p-unc</th>\n",
       "      <th>np2</th>\n",
       "      <th>power</th>\n",
       "    </tr>\n",
       "  </thead>\n",
       "  <tbody>\n",
       "    <tr>\n",
       "      <th>0</th>\n",
       "      <td>exp_critereA</td>\n",
       "      <td>age</td>\n",
       "      <td>0.016225</td>\n",
       "      <td>0.038935</td>\n",
       "      <td>0.932097</td>\n",
       "    </tr>\n",
       "  </tbody>\n",
       "</table>\n",
       "</div>"
      ],
      "text/plain": [
       "              x    y     p-unc       np2     power\n",
       "0  exp_critereA  age  0.016225  0.038935  0.932097"
      ]
     },
     "execution_count": 33,
     "metadata": {},
     "output_type": "execute_result"
    }
   ],
   "source": [
    "compute_anova_table(data, ['exp_critereA'], ['age'], seuil = 1)"
   ]
  },
  {
   "cell_type": "markdown",
   "metadata": {},
   "source": [
    "#### 2. Table 2. Socio-economic information of our cohort and statistical association with PTSD"
   ]
  },
  {
   "cell_type": "code",
   "execution_count": 34,
   "metadata": {},
   "outputs": [
    {
     "data": {
      "text/plain": [
       "full_and_partial_PTSD\n",
       "2    70\n",
       "1    42\n",
       "0    36\n",
       "Name: count, dtype: int64"
      ]
     },
     "execution_count": 34,
     "metadata": {},
     "output_type": "execute_result"
    }
   ],
   "source": [
    "data['full_and_partial_PTSD'].value_counts()"
   ]
  },
  {
   "cell_type": "code",
   "execution_count": 35,
   "metadata": {},
   "outputs": [
    {
     "data": {
      "text/plain": [
       "full_and_partial_PTSD  sexe\n",
       "0                      F       50.0\n",
       "                       M       50.0\n",
       "1                      F       71.4\n",
       "                       M       28.6\n",
       "2                      F       55.7\n",
       "                       M       44.3\n",
       "Name: proportion, dtype: float64"
      ]
     },
     "execution_count": 35,
     "metadata": {},
     "output_type": "execute_result"
    }
   ],
   "source": [
    "data.groupby('full_and_partial_PTSD')['sexe'].value_counts(normalize=True).round(3)*100"
   ]
  },
  {
   "cell_type": "code",
   "execution_count": 36,
   "metadata": {},
   "outputs": [
    {
     "data": {
      "text/plain": [
       "full_and_partial_PTSD  code_insee                                  \n",
       "0                      MANAGERS AND HIGHER INTELLECTUAL PROFESSIONS    52.8\n",
       "                       INTERMEDIATE PROFESSIONS                        27.8\n",
       "                       CRAFTSMEN AND MERCHANTS                         11.1\n",
       "                       RETIRED                                          5.6\n",
       "                       EMPLOYEES                                        2.8\n",
       "1                      MANAGERS AND HIGHER INTELLECTUAL PROFESSIONS    52.4\n",
       "                       INTERMEDIATE PROFESSIONS                        14.3\n",
       "                       EMPLOYEES                                       11.9\n",
       "                       CRAFTSMEN AND MERCHANTS                          7.1\n",
       "                       NR                                               4.8\n",
       "                       STUDENTS                                         4.8\n",
       "                       UNEMPLOYED                                       2.4\n",
       "                       WORKERS                                          2.4\n",
       "2                      MANAGERS AND HIGHER INTELLECTUAL PROFESSIONS    45.7\n",
       "                       INTERMEDIATE PROFESSIONS                        18.6\n",
       "                       UNEMPLOYED                                      10.0\n",
       "                       NR                                               7.1\n",
       "                       STUDENTS                                         7.1\n",
       "                       CRAFTSMEN AND MERCHANTS                          5.7\n",
       "                       EMPLOYEES                                        5.7\n",
       "Name: proportion, dtype: float64"
      ]
     },
     "execution_count": 36,
     "metadata": {},
     "output_type": "execute_result"
    }
   ],
   "source": [
    "data.groupby('full_and_partial_PTSD')['code_insee'].value_counts(normalize=True).round(3)*100"
   ]
  },
  {
   "cell_type": "code",
   "execution_count": 37,
   "metadata": {},
   "outputs": [
    {
     "data": {
      "text/plain": [
       "full_and_partial_PTSD  education_degree   \n",
       "0                      master or higher       61.1\n",
       "                       bachelor               25.0\n",
       "                       high school or less    13.9\n",
       "1                      master or higher       50.0\n",
       "                       bachelor               33.3\n",
       "                       high school or less    16.7\n",
       "2                      master or higher       62.9\n",
       "                       bachelor               21.4\n",
       "                       high school or less    12.9\n",
       "                       other                   2.9\n",
       "Name: proportion, dtype: float64"
      ]
     },
     "execution_count": 37,
     "metadata": {},
     "output_type": "execute_result"
    }
   ],
   "source": [
    "data.groupby('full_and_partial_PTSD')['education_degree'].value_counts(normalize=True).round(3)*100"
   ]
  },
  {
   "cell_type": "code",
   "execution_count": 38,
   "metadata": {},
   "outputs": [
    {
     "data": {
      "text/plain": [
       "full_and_partial_PTSD  living_alone\n",
       "0                      0               52.8\n",
       "                       1               47.2\n",
       "1                      0               69.0\n",
       "                       1               31.0\n",
       "2                      0               74.3\n",
       "                       1               25.7\n",
       "Name: proportion, dtype: float64"
      ]
     },
     "execution_count": 38,
     "metadata": {},
     "output_type": "execute_result"
    }
   ],
   "source": [
    "data.groupby('full_and_partial_PTSD')['living_alone'].value_counts(normalize=True).round(3)*100"
   ]
  },
  {
   "cell_type": "code",
   "execution_count": 39,
   "metadata": {},
   "outputs": [
    {
     "data": {
      "text/plain": [
       "full_and_partial_PTSD  single\n",
       "0                      0         50.0\n",
       "                       1         50.0\n",
       "1                      1         66.7\n",
       "                       0         33.3\n",
       "2                      1         65.7\n",
       "                       0         34.3\n",
       "Name: proportion, dtype: float64"
      ]
     },
     "execution_count": 39,
     "metadata": {},
     "output_type": "execute_result"
    }
   ],
   "source": [
    "data.groupby('full_and_partial_PTSD')['single'].value_counts(normalize=True).round(3)*100"
   ]
  },
  {
   "cell_type": "markdown",
   "metadata": {},
   "source": [
    "#### analysis stats"
   ]
  },
  {
   "cell_type": "code",
   "execution_count": 40,
   "metadata": {},
   "outputs": [
    {
     "data": {
      "text/html": [
       "<div>\n",
       "<style scoped>\n",
       "    .dataframe tbody tr th:only-of-type {\n",
       "        vertical-align: middle;\n",
       "    }\n",
       "\n",
       "    .dataframe tbody tr th {\n",
       "        vertical-align: top;\n",
       "    }\n",
       "\n",
       "    .dataframe thead th {\n",
       "        text-align: right;\n",
       "    }\n",
       "</style>\n",
       "<table border=\"1\" class=\"dataframe\">\n",
       "  <thead>\n",
       "    <tr style=\"text-align: right;\">\n",
       "      <th></th>\n",
       "      <th>x</th>\n",
       "      <th>y</th>\n",
       "      <th>chi2</th>\n",
       "      <th>dof</th>\n",
       "      <th>pval</th>\n",
       "      <th>cramer</th>\n",
       "      <th>power</th>\n",
       "    </tr>\n",
       "  </thead>\n",
       "  <tbody>\n",
       "    <tr>\n",
       "      <th>0</th>\n",
       "      <td>full_and_partial_PTSD</td>\n",
       "      <td>sexe</td>\n",
       "      <td>4.190325</td>\n",
       "      <td>2.0</td>\n",
       "      <td>0.123050</td>\n",
       "      <td>0.168265</td>\n",
       "      <td>0.432742</td>\n",
       "    </tr>\n",
       "    <tr>\n",
       "      <th>1</th>\n",
       "      <td>full_and_partial_PTSD</td>\n",
       "      <td>code_insee</td>\n",
       "      <td>25.030858</td>\n",
       "      <td>16.0</td>\n",
       "      <td>0.069283</td>\n",
       "      <td>0.290798</td>\n",
       "      <td>0.560784</td>\n",
       "    </tr>\n",
       "    <tr>\n",
       "      <th>2</th>\n",
       "      <td>full_and_partial_PTSD</td>\n",
       "      <td>education_degree</td>\n",
       "      <td>4.739480</td>\n",
       "      <td>6.0</td>\n",
       "      <td>0.577634</td>\n",
       "      <td>0.126538</td>\n",
       "      <td>0.167544</td>\n",
       "    </tr>\n",
       "    <tr>\n",
       "      <th>3</th>\n",
       "      <td>full_and_partial_PTSD</td>\n",
       "      <td>single</td>\n",
       "      <td>3.001804</td>\n",
       "      <td>2.0</td>\n",
       "      <td>0.222929</td>\n",
       "      <td>0.142417</td>\n",
       "      <td>0.321697</td>\n",
       "    </tr>\n",
       "    <tr>\n",
       "      <th>4</th>\n",
       "      <td>full_and_partial_PTSD</td>\n",
       "      <td>living_alone</td>\n",
       "      <td>5.077124</td>\n",
       "      <td>2.0</td>\n",
       "      <td>0.078980</td>\n",
       "      <td>0.185216</td>\n",
       "      <td>0.510165</td>\n",
       "    </tr>\n",
       "  </tbody>\n",
       "</table>\n",
       "</div>"
      ],
      "text/plain": [
       "                       x                 y       chi2   dof      pval  \\\n",
       "0  full_and_partial_PTSD              sexe   4.190325   2.0  0.123050   \n",
       "1  full_and_partial_PTSD        code_insee  25.030858  16.0  0.069283   \n",
       "2  full_and_partial_PTSD  education_degree   4.739480   6.0  0.577634   \n",
       "3  full_and_partial_PTSD            single   3.001804   2.0  0.222929   \n",
       "4  full_and_partial_PTSD      living_alone   5.077124   2.0  0.078980   \n",
       "\n",
       "     cramer     power  \n",
       "0  0.168265  0.432742  \n",
       "1  0.290798  0.560784  \n",
       "2  0.126538  0.167544  \n",
       "3  0.142417  0.321697  \n",
       "4  0.185216  0.510165  "
      ]
     },
     "execution_count": 40,
     "metadata": {},
     "output_type": "execute_result"
    }
   ],
   "source": [
    "compute_khi_2_table(data, ['full_and_partial_PTSD'], ['sexe',  'code_insee', 'education_degree', 'single', 'living_alone'], seuil = 1)"
   ]
  },
  {
   "cell_type": "code",
   "execution_count": 41,
   "metadata": {},
   "outputs": [
    {
     "data": {
      "text/html": [
       "<div>\n",
       "<style scoped>\n",
       "    .dataframe tbody tr th:only-of-type {\n",
       "        vertical-align: middle;\n",
       "    }\n",
       "\n",
       "    .dataframe tbody tr th {\n",
       "        vertical-align: top;\n",
       "    }\n",
       "\n",
       "    .dataframe thead th {\n",
       "        text-align: right;\n",
       "    }\n",
       "</style>\n",
       "<table border=\"1\" class=\"dataframe\">\n",
       "  <thead>\n",
       "    <tr style=\"text-align: right;\">\n",
       "      <th></th>\n",
       "      <th>x</th>\n",
       "      <th>y</th>\n",
       "      <th>p-unc</th>\n",
       "      <th>np2</th>\n",
       "      <th>power</th>\n",
       "    </tr>\n",
       "  </thead>\n",
       "  <tbody>\n",
       "    <tr>\n",
       "      <th>0</th>\n",
       "      <td>full_and_partial_PTSD</td>\n",
       "      <td>age</td>\n",
       "      <td>0.015199</td>\n",
       "      <td>0.05611</td>\n",
       "      <td>0.997541</td>\n",
       "    </tr>\n",
       "  </tbody>\n",
       "</table>\n",
       "</div>"
      ],
      "text/plain": [
       "                       x    y     p-unc      np2     power\n",
       "0  full_and_partial_PTSD  age  0.015199  0.05611  0.997541"
      ]
     },
     "execution_count": 41,
     "metadata": {},
     "output_type": "execute_result"
    }
   ],
   "source": [
    "compute_anova_table(data, ['full_and_partial_PTSD'], ['age'], seuil = 1)"
   ]
  },
  {
   "cell_type": "markdown",
   "metadata": {},
   "source": [
    "### Evaluate human expert\n",
    "\n",
    "### Table 3.  Evaluation of the blinded rating of a human expert (clinician psychiatrist) "
   ]
  },
  {
   "cell_type": "code",
   "execution_count": 42,
   "metadata": {},
   "outputs": [
    {
     "name": "stdout",
     "output_type": "stream",
     "text": [
      "### Col :  CB\n",
      "AUC Score, 0.74\n",
      "Precison Score, 0.9\n",
      "Recall Score, 0.71\n",
      "Specificity Score, 0.76\n",
      "### Col :  CC\n",
      "AUC Score, 0.58\n",
      "Precison Score, 0.56\n",
      "Recall Score, 0.55\n",
      "Specificity Score, 0.61\n",
      "### Col :  CD\n",
      "AUC Score, 0.73\n",
      "Precison Score, 0.81\n",
      "Recall Score, 0.77\n",
      "Specificity Score, 0.68\n",
      "### Col :  CE\n",
      "AUC Score, 0.8\n",
      "Precison Score, 0.9\n",
      "Recall Score, 0.88\n",
      "Specificity Score, 0.71\n",
      "### Col :  CG\n",
      "AUC Score, 0.73\n",
      "Precison Score, 0.88\n",
      "Recall Score, 0.64\n",
      "Specificity Score, 0.82\n",
      "### Col :  full_or_partial\n",
      "AUC Score, 0.71\n",
      "Precison Score, 0.78\n",
      "Recall Score, 0.76\n",
      "Specificity Score, 0.67\n"
     ]
    }
   ],
   "source": [
    "from sklearn.metrics import confusion_matrix, accuracy_score,recall_score, precision_score, f1_score, classification_report, roc_auc_score, balanced_accuracy_score\n",
    "import os\n",
    "\n",
    "human_eval  = pd.read_csv(os.path.join(config['data']['data_folder'],config['data'][\"human_evaluation_filename\"]))\n",
    "\n",
    "merged = human_eval.merge(data, on = 'uuid')\n",
    "\n",
    "for col in [\"CB\",\"CC\",\"CD\",\"CE\",\"CG\", \"full_or_partial\"] :\n",
    "    if len(col)<=3 :\n",
    "        true = merged[f\"{col}_probable\"]\n",
    "        pred = merged[col].replace(\"?\",0).fillna(0).astype('int')\n",
    "    else : \n",
    "        true = merged[f\"{col}_PTSD\"]\n",
    "        pred = merged[f\"{col}_PTSD_human\"].replace(\"?\",0).fillna(0).astype('int')\n",
    "        \n",
    "    print(\"### Col : \", col)\n",
    "    print(f\"AUC Score, {roc_auc_score(true, pred).round(2)}\")\n",
    "    print(f\"Precison Score, {precision_score(true, pred).round(2)}\")\n",
    "    print(f\"Recall Score, {recall_score(true, pred).round(2)}\")\n",
    "    print(f\"Specificity Score, {recall_score(true, pred, pos_label=0).round(2)}\")"
   ]
  },
  {
   "cell_type": "markdown",
   "metadata": {},
   "source": []
  }
 ],
 "metadata": {
  "kernelspec": {
   "display_name": "ptsd_analysis",
   "language": "python",
   "name": "python3"
  },
  "language_info": {
   "codemirror_mode": {
    "name": "ipython",
    "version": 3
   },
   "file_extension": ".py",
   "mimetype": "text/x-python",
   "name": "python",
   "nbconvert_exporter": "python",
   "pygments_lexer": "ipython3",
   "version": "3.9.18"
  },
  "orig_nbformat": 4
 },
 "nbformat": 4,
 "nbformat_minor": 2
}
